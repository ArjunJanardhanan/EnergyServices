{
 "cells": [
  {
   "cell_type": "markdown",
   "id": "74b903b4-4a3c-4e8b-9b86-0f98bbbb2709",
   "metadata": {},
   "source": [
    "# Testing regression model"
   ]
  },
  {
   "cell_type": "markdown",
   "id": "f5173978-25fb-4355-a167-d7d410f88119",
   "metadata": {},
   "source": [
    "Model developed using the data from 2017 and 2018 is tested using the data from 2019"
   ]
  },
  {
   "cell_type": "markdown",
   "id": "053fd870-5021-466f-9259-777e79204078",
   "metadata": {
    "tags": []
   },
   "source": [
    "#### Import libraries"
   ]
  },
  {
   "cell_type": "code",
   "execution_count": 1,
   "id": "48f6b120-3011-48cb-b43e-37798f2bc2c6",
   "metadata": {
    "tags": []
   },
   "outputs": [],
   "source": [
    "import pandas as pd # data science library o manipulate data\n",
    "import numpy as np # mathematical library to manipulate arrays and matrices\n",
    "import matplotlib.pyplot as plt # visualization library\n",
    "import seaborn as sb #visualization library specific for data science, based on matplotlib\n",
    "from sklearn import metrics\n",
    "from sklearn.ensemble import RandomForestRegressor"
   ]
  },
  {
   "cell_type": "markdown",
   "id": "77553829-7134-4634-b896-891cb81f0199",
   "metadata": {},
   "source": [
    "## Data Collection"
   ]
  },
  {
   "cell_type": "markdown",
   "id": "2a750b4e-4c14-4d47-ba70-8e25868979eb",
   "metadata": {},
   "source": [
    "#### Import 2019 data"
   ]
  },
  {
   "cell_type": "code",
   "execution_count": 2,
   "id": "63b60a5a-9827-4b00-b718-deb2db571d07",
   "metadata": {
    "tags": []
   },
   "outputs": [],
   "source": [
    "df_test = pd.read_csv('testData_2019_Central.csv') # loads a csv file into a dataframe"
   ]
  },
  {
   "cell_type": "markdown",
   "id": "2463c390-38e9-451c-bbc4-22012f48520a",
   "metadata": {},
   "source": [
    "#### Observing data"
   ]
  },
  {
   "cell_type": "code",
   "execution_count": 3,
   "id": "b1584dea-8095-491a-80dd-8472fa723a47",
   "metadata": {
    "tags": []
   },
   "outputs": [
    {
     "data": {
      "text/html": [
       "<div>\n",
       "<style scoped>\n",
       "    .dataframe tbody tr th:only-of-type {\n",
       "        vertical-align: middle;\n",
       "    }\n",
       "\n",
       "    .dataframe tbody tr th {\n",
       "        vertical-align: top;\n",
       "    }\n",
       "\n",
       "    .dataframe thead th {\n",
       "        text-align: right;\n",
       "    }\n",
       "</style>\n",
       "<table border=\"1\" class=\"dataframe\">\n",
       "  <thead>\n",
       "    <tr style=\"text-align: right;\">\n",
       "      <th></th>\n",
       "      <th>Date</th>\n",
       "      <th>Central (kWh)</th>\n",
       "      <th>temp_C</th>\n",
       "      <th>HR</th>\n",
       "      <th>windSpeed_m/s</th>\n",
       "      <th>windGust_m/s</th>\n",
       "      <th>pres_mbar</th>\n",
       "      <th>solarRad_W/m2</th>\n",
       "      <th>rain_mm/h</th>\n",
       "      <th>rain_day</th>\n",
       "    </tr>\n",
       "  </thead>\n",
       "  <tbody>\n",
       "    <tr>\n",
       "      <th>0</th>\n",
       "      <td>2019-01-01 00:00:00</td>\n",
       "      <td>121.829</td>\n",
       "      <td>10.635833</td>\n",
       "      <td>62.684167</td>\n",
       "      <td>0.0</td>\n",
       "      <td>0.0</td>\n",
       "      <td>1031.000000</td>\n",
       "      <td>2.543250</td>\n",
       "      <td>0.0</td>\n",
       "      <td>0.0</td>\n",
       "    </tr>\n",
       "    <tr>\n",
       "      <th>1</th>\n",
       "      <td>2019-01-01 01:00:00</td>\n",
       "      <td>122.528</td>\n",
       "      <td>10.377500</td>\n",
       "      <td>62.836667</td>\n",
       "      <td>0.0</td>\n",
       "      <td>0.0</td>\n",
       "      <td>1031.000000</td>\n",
       "      <td>1.728667</td>\n",
       "      <td>0.0</td>\n",
       "      <td>0.0</td>\n",
       "    </tr>\n",
       "    <tr>\n",
       "      <th>2</th>\n",
       "      <td>2019-01-01 02:00:00</td>\n",
       "      <td>121.191</td>\n",
       "      <td>10.260833</td>\n",
       "      <td>61.720000</td>\n",
       "      <td>0.0</td>\n",
       "      <td>0.0</td>\n",
       "      <td>1031.083333</td>\n",
       "      <td>2.674750</td>\n",
       "      <td>0.0</td>\n",
       "      <td>0.0</td>\n",
       "    </tr>\n",
       "    <tr>\n",
       "      <th>3</th>\n",
       "      <td>2019-01-01 03:00:00</td>\n",
       "      <td>120.859</td>\n",
       "      <td>9.666667</td>\n",
       "      <td>63.893333</td>\n",
       "      <td>0.0</td>\n",
       "      <td>0.0</td>\n",
       "      <td>1031.083333</td>\n",
       "      <td>2.444250</td>\n",
       "      <td>0.0</td>\n",
       "      <td>0.0</td>\n",
       "    </tr>\n",
       "    <tr>\n",
       "      <th>4</th>\n",
       "      <td>2019-01-01 04:00:00</td>\n",
       "      <td>120.500</td>\n",
       "      <td>8.640833</td>\n",
       "      <td>68.034167</td>\n",
       "      <td>0.0</td>\n",
       "      <td>0.0</td>\n",
       "      <td>1031.000000</td>\n",
       "      <td>3.056333</td>\n",
       "      <td>0.0</td>\n",
       "      <td>0.0</td>\n",
       "    </tr>\n",
       "    <tr>\n",
       "      <th>...</th>\n",
       "      <td>...</td>\n",
       "      <td>...</td>\n",
       "      <td>...</td>\n",
       "      <td>...</td>\n",
       "      <td>...</td>\n",
       "      <td>...</td>\n",
       "      <td>...</td>\n",
       "      <td>...</td>\n",
       "      <td>...</td>\n",
       "      <td>...</td>\n",
       "    </tr>\n",
       "    <tr>\n",
       "      <th>2410</th>\n",
       "      <td>2019-04-11 11:00:00</td>\n",
       "      <td>221.531</td>\n",
       "      <td>15.615000</td>\n",
       "      <td>47.215000</td>\n",
       "      <td>0.0</td>\n",
       "      <td>0.0</td>\n",
       "      <td>1022.083333</td>\n",
       "      <td>869.200000</td>\n",
       "      <td>0.0</td>\n",
       "      <td>0.0</td>\n",
       "    </tr>\n",
       "    <tr>\n",
       "      <th>2411</th>\n",
       "      <td>2019-04-11 12:00:00</td>\n",
       "      <td>218.545</td>\n",
       "      <td>15.872500</td>\n",
       "      <td>46.630000</td>\n",
       "      <td>0.0</td>\n",
       "      <td>0.0</td>\n",
       "      <td>1022.000000</td>\n",
       "      <td>640.591667</td>\n",
       "      <td>0.0</td>\n",
       "      <td>0.0</td>\n",
       "    </tr>\n",
       "    <tr>\n",
       "      <th>2412</th>\n",
       "      <td>2019-04-11 13:00:00</td>\n",
       "      <td>221.306</td>\n",
       "      <td>16.315833</td>\n",
       "      <td>45.955833</td>\n",
       "      <td>0.0</td>\n",
       "      <td>0.0</td>\n",
       "      <td>1021.416667</td>\n",
       "      <td>855.808333</td>\n",
       "      <td>0.0</td>\n",
       "      <td>0.0</td>\n",
       "    </tr>\n",
       "    <tr>\n",
       "      <th>2413</th>\n",
       "      <td>2019-04-11 14:00:00</td>\n",
       "      <td>232.824</td>\n",
       "      <td>15.755455</td>\n",
       "      <td>45.820909</td>\n",
       "      <td>0.0</td>\n",
       "      <td>0.0</td>\n",
       "      <td>1021.090909</td>\n",
       "      <td>625.072727</td>\n",
       "      <td>0.0</td>\n",
       "      <td>0.0</td>\n",
       "    </tr>\n",
       "    <tr>\n",
       "      <th>2414</th>\n",
       "      <td>2019-04-11 15:00:00</td>\n",
       "      <td>232.628</td>\n",
       "      <td>15.290000</td>\n",
       "      <td>41.750000</td>\n",
       "      <td>0.0</td>\n",
       "      <td>0.0</td>\n",
       "      <td>1021.000000</td>\n",
       "      <td>519.750000</td>\n",
       "      <td>0.0</td>\n",
       "      <td>0.0</td>\n",
       "    </tr>\n",
       "  </tbody>\n",
       "</table>\n",
       "<p>2415 rows × 10 columns</p>\n",
       "</div>"
      ],
      "text/plain": [
       "                     Date  Central (kWh)     temp_C         HR  windSpeed_m/s  \\\n",
       "0     2019-01-01 00:00:00        121.829  10.635833  62.684167            0.0   \n",
       "1     2019-01-01 01:00:00        122.528  10.377500  62.836667            0.0   \n",
       "2     2019-01-01 02:00:00        121.191  10.260833  61.720000            0.0   \n",
       "3     2019-01-01 03:00:00        120.859   9.666667  63.893333            0.0   \n",
       "4     2019-01-01 04:00:00        120.500   8.640833  68.034167            0.0   \n",
       "...                   ...            ...        ...        ...            ...   \n",
       "2410  2019-04-11 11:00:00        221.531  15.615000  47.215000            0.0   \n",
       "2411  2019-04-11 12:00:00        218.545  15.872500  46.630000            0.0   \n",
       "2412  2019-04-11 13:00:00        221.306  16.315833  45.955833            0.0   \n",
       "2413  2019-04-11 14:00:00        232.824  15.755455  45.820909            0.0   \n",
       "2414  2019-04-11 15:00:00        232.628  15.290000  41.750000            0.0   \n",
       "\n",
       "      windGust_m/s    pres_mbar  solarRad_W/m2  rain_mm/h  rain_day  \n",
       "0              0.0  1031.000000       2.543250        0.0       0.0  \n",
       "1              0.0  1031.000000       1.728667        0.0       0.0  \n",
       "2              0.0  1031.083333       2.674750        0.0       0.0  \n",
       "3              0.0  1031.083333       2.444250        0.0       0.0  \n",
       "4              0.0  1031.000000       3.056333        0.0       0.0  \n",
       "...            ...          ...            ...        ...       ...  \n",
       "2410           0.0  1022.083333     869.200000        0.0       0.0  \n",
       "2411           0.0  1022.000000     640.591667        0.0       0.0  \n",
       "2412           0.0  1021.416667     855.808333        0.0       0.0  \n",
       "2413           0.0  1021.090909     625.072727        0.0       0.0  \n",
       "2414           0.0  1021.000000     519.750000        0.0       0.0  \n",
       "\n",
       "[2415 rows x 10 columns]"
      ]
     },
     "execution_count": 3,
     "metadata": {},
     "output_type": "execute_result"
    }
   ],
   "source": [
    "df_test"
   ]
  },
  {
   "cell_type": "code",
   "execution_count": 4,
   "id": "d1a08ae7-8e20-4d59-8e6a-5ad2ea3b3eb1",
   "metadata": {
    "tags": []
   },
   "outputs": [
    {
     "name": "stdout",
     "output_type": "stream",
     "text": [
      "<class 'pandas.core.frame.DataFrame'>\n",
      "RangeIndex: 2415 entries, 0 to 2414\n",
      "Data columns (total 10 columns):\n",
      " #   Column         Non-Null Count  Dtype  \n",
      "---  ------         --------------  -----  \n",
      " 0   Date           2415 non-null   object \n",
      " 1   Central (kWh)  2415 non-null   float64\n",
      " 2   temp_C         2415 non-null   float64\n",
      " 3   HR             2415 non-null   float64\n",
      " 4   windSpeed_m/s  2415 non-null   float64\n",
      " 5   windGust_m/s   2415 non-null   float64\n",
      " 6   pres_mbar      2415 non-null   float64\n",
      " 7   solarRad_W/m2  2415 non-null   float64\n",
      " 8   rain_mm/h      2415 non-null   float64\n",
      " 9   rain_day       2415 non-null   float64\n",
      "dtypes: float64(9), object(1)\n",
      "memory usage: 188.8+ KB\n"
     ]
    }
   ],
   "source": [
    "df_test.info()"
   ]
  },
  {
   "cell_type": "markdown",
   "id": "0df127e3-e305-47d8-9339-098f2dfe4bb0",
   "metadata": {},
   "source": [
    "There seems to be no null values in the data."
   ]
  },
  {
   "cell_type": "markdown",
   "id": "186a9ecb-ab07-41a9-b2fc-e6901d2ec560",
   "metadata": {
    "tags": []
   },
   "source": [
    "## Data Preparation"
   ]
  },
  {
   "cell_type": "markdown",
   "id": "34241f3f-a1bc-4fd4-8dcf-89bf0dd89ff8",
   "metadata": {},
   "source": [
    "#### Changing Date column into Datetime, renaming the header and adding additional features"
   ]
  },
  {
   "cell_type": "code",
   "execution_count": 5,
   "id": "9529b057-4c00-4b01-ac78-8fd37aceaad5",
   "metadata": {},
   "outputs": [],
   "source": [
    "df_test.rename(columns = {'Date': 'date'}, inplace = True)"
   ]
  },
  {
   "cell_type": "code",
   "execution_count": 6,
   "id": "33206e40-f77b-4fd5-85f9-03a39659d14b",
   "metadata": {},
   "outputs": [],
   "source": [
    "df_test.rename(columns = {'Central (kWh)': 'Power_kW'}, inplace = True)"
   ]
  },
  {
   "cell_type": "code",
   "execution_count": 7,
   "id": "f57dd7c4-12f6-4d67-a300-7329e057cf73",
   "metadata": {
    "tags": []
   },
   "outputs": [
    {
     "data": {
      "text/html": [
       "<div>\n",
       "<style scoped>\n",
       "    .dataframe tbody tr th:only-of-type {\n",
       "        vertical-align: middle;\n",
       "    }\n",
       "\n",
       "    .dataframe tbody tr th {\n",
       "        vertical-align: top;\n",
       "    }\n",
       "\n",
       "    .dataframe thead th {\n",
       "        text-align: right;\n",
       "    }\n",
       "</style>\n",
       "<table border=\"1\" class=\"dataframe\">\n",
       "  <thead>\n",
       "    <tr style=\"text-align: right;\">\n",
       "      <th></th>\n",
       "      <th>Power_kW</th>\n",
       "      <th>temp_C</th>\n",
       "      <th>HR</th>\n",
       "      <th>windSpeed_m/s</th>\n",
       "      <th>windGust_m/s</th>\n",
       "      <th>pres_mbar</th>\n",
       "      <th>solarRad_W/m2</th>\n",
       "      <th>rain_mm/h</th>\n",
       "      <th>rain_day</th>\n",
       "      <th>Hour</th>\n",
       "      <th>Week Day</th>\n",
       "      <th>Power-1</th>\n",
       "      <th>Week-Day^2</th>\n",
       "    </tr>\n",
       "    <tr>\n",
       "      <th>date</th>\n",
       "      <th></th>\n",
       "      <th></th>\n",
       "      <th></th>\n",
       "      <th></th>\n",
       "      <th></th>\n",
       "      <th></th>\n",
       "      <th></th>\n",
       "      <th></th>\n",
       "      <th></th>\n",
       "      <th></th>\n",
       "      <th></th>\n",
       "      <th></th>\n",
       "      <th></th>\n",
       "    </tr>\n",
       "  </thead>\n",
       "  <tbody>\n",
       "    <tr>\n",
       "      <th>2019-01-01 00:00:00</th>\n",
       "      <td>121.829</td>\n",
       "      <td>10.635833</td>\n",
       "      <td>62.684167</td>\n",
       "      <td>0.0</td>\n",
       "      <td>0.0</td>\n",
       "      <td>1031.000000</td>\n",
       "      <td>2.543250</td>\n",
       "      <td>0.0</td>\n",
       "      <td>0.0</td>\n",
       "      <td>0</td>\n",
       "      <td>1</td>\n",
       "      <td>NaN</td>\n",
       "      <td>1</td>\n",
       "    </tr>\n",
       "    <tr>\n",
       "      <th>2019-01-01 01:00:00</th>\n",
       "      <td>122.528</td>\n",
       "      <td>10.377500</td>\n",
       "      <td>62.836667</td>\n",
       "      <td>0.0</td>\n",
       "      <td>0.0</td>\n",
       "      <td>1031.000000</td>\n",
       "      <td>1.728667</td>\n",
       "      <td>0.0</td>\n",
       "      <td>0.0</td>\n",
       "      <td>1</td>\n",
       "      <td>1</td>\n",
       "      <td>121.829</td>\n",
       "      <td>1</td>\n",
       "    </tr>\n",
       "    <tr>\n",
       "      <th>2019-01-01 02:00:00</th>\n",
       "      <td>121.191</td>\n",
       "      <td>10.260833</td>\n",
       "      <td>61.720000</td>\n",
       "      <td>0.0</td>\n",
       "      <td>0.0</td>\n",
       "      <td>1031.083333</td>\n",
       "      <td>2.674750</td>\n",
       "      <td>0.0</td>\n",
       "      <td>0.0</td>\n",
       "      <td>2</td>\n",
       "      <td>1</td>\n",
       "      <td>122.528</td>\n",
       "      <td>1</td>\n",
       "    </tr>\n",
       "    <tr>\n",
       "      <th>2019-01-01 03:00:00</th>\n",
       "      <td>120.859</td>\n",
       "      <td>9.666667</td>\n",
       "      <td>63.893333</td>\n",
       "      <td>0.0</td>\n",
       "      <td>0.0</td>\n",
       "      <td>1031.083333</td>\n",
       "      <td>2.444250</td>\n",
       "      <td>0.0</td>\n",
       "      <td>0.0</td>\n",
       "      <td>3</td>\n",
       "      <td>1</td>\n",
       "      <td>121.191</td>\n",
       "      <td>1</td>\n",
       "    </tr>\n",
       "    <tr>\n",
       "      <th>2019-01-01 04:00:00</th>\n",
       "      <td>120.500</td>\n",
       "      <td>8.640833</td>\n",
       "      <td>68.034167</td>\n",
       "      <td>0.0</td>\n",
       "      <td>0.0</td>\n",
       "      <td>1031.000000</td>\n",
       "      <td>3.056333</td>\n",
       "      <td>0.0</td>\n",
       "      <td>0.0</td>\n",
       "      <td>4</td>\n",
       "      <td>1</td>\n",
       "      <td>120.859</td>\n",
       "      <td>1</td>\n",
       "    </tr>\n",
       "    <tr>\n",
       "      <th>...</th>\n",
       "      <td>...</td>\n",
       "      <td>...</td>\n",
       "      <td>...</td>\n",
       "      <td>...</td>\n",
       "      <td>...</td>\n",
       "      <td>...</td>\n",
       "      <td>...</td>\n",
       "      <td>...</td>\n",
       "      <td>...</td>\n",
       "      <td>...</td>\n",
       "      <td>...</td>\n",
       "      <td>...</td>\n",
       "      <td>...</td>\n",
       "    </tr>\n",
       "    <tr>\n",
       "      <th>2019-04-11 11:00:00</th>\n",
       "      <td>221.531</td>\n",
       "      <td>15.615000</td>\n",
       "      <td>47.215000</td>\n",
       "      <td>0.0</td>\n",
       "      <td>0.0</td>\n",
       "      <td>1022.083333</td>\n",
       "      <td>869.200000</td>\n",
       "      <td>0.0</td>\n",
       "      <td>0.0</td>\n",
       "      <td>11</td>\n",
       "      <td>3</td>\n",
       "      <td>218.149</td>\n",
       "      <td>9</td>\n",
       "    </tr>\n",
       "    <tr>\n",
       "      <th>2019-04-11 12:00:00</th>\n",
       "      <td>218.545</td>\n",
       "      <td>15.872500</td>\n",
       "      <td>46.630000</td>\n",
       "      <td>0.0</td>\n",
       "      <td>0.0</td>\n",
       "      <td>1022.000000</td>\n",
       "      <td>640.591667</td>\n",
       "      <td>0.0</td>\n",
       "      <td>0.0</td>\n",
       "      <td>12</td>\n",
       "      <td>3</td>\n",
       "      <td>221.531</td>\n",
       "      <td>9</td>\n",
       "    </tr>\n",
       "    <tr>\n",
       "      <th>2019-04-11 13:00:00</th>\n",
       "      <td>221.306</td>\n",
       "      <td>16.315833</td>\n",
       "      <td>45.955833</td>\n",
       "      <td>0.0</td>\n",
       "      <td>0.0</td>\n",
       "      <td>1021.416667</td>\n",
       "      <td>855.808333</td>\n",
       "      <td>0.0</td>\n",
       "      <td>0.0</td>\n",
       "      <td>13</td>\n",
       "      <td>3</td>\n",
       "      <td>218.545</td>\n",
       "      <td>9</td>\n",
       "    </tr>\n",
       "    <tr>\n",
       "      <th>2019-04-11 14:00:00</th>\n",
       "      <td>232.824</td>\n",
       "      <td>15.755455</td>\n",
       "      <td>45.820909</td>\n",
       "      <td>0.0</td>\n",
       "      <td>0.0</td>\n",
       "      <td>1021.090909</td>\n",
       "      <td>625.072727</td>\n",
       "      <td>0.0</td>\n",
       "      <td>0.0</td>\n",
       "      <td>14</td>\n",
       "      <td>3</td>\n",
       "      <td>221.306</td>\n",
       "      <td>9</td>\n",
       "    </tr>\n",
       "    <tr>\n",
       "      <th>2019-04-11 15:00:00</th>\n",
       "      <td>232.628</td>\n",
       "      <td>15.290000</td>\n",
       "      <td>41.750000</td>\n",
       "      <td>0.0</td>\n",
       "      <td>0.0</td>\n",
       "      <td>1021.000000</td>\n",
       "      <td>519.750000</td>\n",
       "      <td>0.0</td>\n",
       "      <td>0.0</td>\n",
       "      <td>15</td>\n",
       "      <td>3</td>\n",
       "      <td>232.824</td>\n",
       "      <td>9</td>\n",
       "    </tr>\n",
       "  </tbody>\n",
       "</table>\n",
       "<p>2415 rows × 13 columns</p>\n",
       "</div>"
      ],
      "text/plain": [
       "                     Power_kW     temp_C         HR  windSpeed_m/s  \\\n",
       "date                                                                 \n",
       "2019-01-01 00:00:00   121.829  10.635833  62.684167            0.0   \n",
       "2019-01-01 01:00:00   122.528  10.377500  62.836667            0.0   \n",
       "2019-01-01 02:00:00   121.191  10.260833  61.720000            0.0   \n",
       "2019-01-01 03:00:00   120.859   9.666667  63.893333            0.0   \n",
       "2019-01-01 04:00:00   120.500   8.640833  68.034167            0.0   \n",
       "...                       ...        ...        ...            ...   \n",
       "2019-04-11 11:00:00   221.531  15.615000  47.215000            0.0   \n",
       "2019-04-11 12:00:00   218.545  15.872500  46.630000            0.0   \n",
       "2019-04-11 13:00:00   221.306  16.315833  45.955833            0.0   \n",
       "2019-04-11 14:00:00   232.824  15.755455  45.820909            0.0   \n",
       "2019-04-11 15:00:00   232.628  15.290000  41.750000            0.0   \n",
       "\n",
       "                     windGust_m/s    pres_mbar  solarRad_W/m2  rain_mm/h  \\\n",
       "date                                                                       \n",
       "2019-01-01 00:00:00           0.0  1031.000000       2.543250        0.0   \n",
       "2019-01-01 01:00:00           0.0  1031.000000       1.728667        0.0   \n",
       "2019-01-01 02:00:00           0.0  1031.083333       2.674750        0.0   \n",
       "2019-01-01 03:00:00           0.0  1031.083333       2.444250        0.0   \n",
       "2019-01-01 04:00:00           0.0  1031.000000       3.056333        0.0   \n",
       "...                           ...          ...            ...        ...   \n",
       "2019-04-11 11:00:00           0.0  1022.083333     869.200000        0.0   \n",
       "2019-04-11 12:00:00           0.0  1022.000000     640.591667        0.0   \n",
       "2019-04-11 13:00:00           0.0  1021.416667     855.808333        0.0   \n",
       "2019-04-11 14:00:00           0.0  1021.090909     625.072727        0.0   \n",
       "2019-04-11 15:00:00           0.0  1021.000000     519.750000        0.0   \n",
       "\n",
       "                     rain_day  Hour  Week Day  Power-1  Week-Day^2  \n",
       "date                                                                \n",
       "2019-01-01 00:00:00       0.0     0         1      NaN           1  \n",
       "2019-01-01 01:00:00       0.0     1         1  121.829           1  \n",
       "2019-01-01 02:00:00       0.0     2         1  122.528           1  \n",
       "2019-01-01 03:00:00       0.0     3         1  121.191           1  \n",
       "2019-01-01 04:00:00       0.0     4         1  120.859           1  \n",
       "...                       ...   ...       ...      ...         ...  \n",
       "2019-04-11 11:00:00       0.0    11         3  218.149           9  \n",
       "2019-04-11 12:00:00       0.0    12         3  221.531           9  \n",
       "2019-04-11 13:00:00       0.0    13         3  218.545           9  \n",
       "2019-04-11 14:00:00       0.0    14         3  221.306           9  \n",
       "2019-04-11 15:00:00       0.0    15         3  232.824           9  \n",
       "\n",
       "[2415 rows x 13 columns]"
      ]
     },
     "execution_count": 7,
     "metadata": {},
     "output_type": "execute_result"
    }
   ],
   "source": [
    "df_test['date'] = pd.to_datetime(df_test['date'])\n",
    "df_test = df_test.set_index ('date', drop = True)\n",
    "df_test['Hour'] = df_test.index.hour\n",
    "df_test['Week Day'] = df_test.index.weekday\n",
    "df_test['Power-1']=df_test['Power_kW'].shift(1) # Previous hour consumption\n",
    "df_test['Week-Day^2']=np.square(df_test['Week Day'])\n",
    "\n",
    "df_test"
   ]
  },
  {
   "cell_type": "code",
   "execution_count": 8,
   "id": "5a5c5faf-763d-41d2-8a4c-6787d78bec67",
   "metadata": {
    "tags": []
   },
   "outputs": [],
   "source": [
    "df_test=df_test.dropna()\n",
    "df_final=df_test.iloc[:, [0,11,1,6,9,12]] # Change the position of the columns so that Y=column 0 and X all the remaining columns\n",
    "df_final\n",
    "df_final.to_csv('IST_Central_DataHourly_2019_test.csv', encoding='utf-8', index=True)"
   ]
  },
  {
   "cell_type": "markdown",
   "id": "31905dbd-22fb-4920-8839-a2124ef16ee3",
   "metadata": {
    "tags": []
   },
   "source": [
    "## Test model "
   ]
  },
  {
   "cell_type": "markdown",
   "id": "8b37f9e0-611e-454b-a365-738f0df21db8",
   "metadata": {},
   "source": [
    "Features selected: power-1, temp_c, solar rad, hour and Week-Day^2\n",
    "\n",
    "Selected Model: Random Forest model"
   ]
  },
  {
   "cell_type": "code",
   "execution_count": 9,
   "id": "22758ffa-51a4-4379-af09-b7c8ec823ccf",
   "metadata": {},
   "outputs": [],
   "source": [
    "#Create matrix from data frame\n",
    "Z=df_final.values\n",
    "#Identify output Y\n",
    "Y=Z[:,0]\n",
    "#Identify input Y\n",
    "X=Z[:,[1,2,3,4,5]] #power-1, temp_C, solar rad, hour, Week-Day^2"
   ]
  },
  {
   "cell_type": "code",
   "execution_count": 10,
   "id": "0cdb4388-78e9-4ce3-a68d-e3d533b379ae",
   "metadata": {
    "tags": []
   },
   "outputs": [],
   "source": [
    "import pickle"
   ]
  },
  {
   "cell_type": "code",
   "execution_count": 11,
   "id": "6a9a82b5-83cd-4171-bbf5-e94022f0530e",
   "metadata": {
    "tags": []
   },
   "outputs": [],
   "source": [
    "#Load LR model\n",
    "with open('RF_model.pkl','rb') as file:\n",
    "    RF_model=pickle.load(file)"
   ]
  },
  {
   "cell_type": "code",
   "execution_count": 12,
   "id": "e057e456-106f-4a17-ba2f-52edefffe958",
   "metadata": {
    "tags": []
   },
   "outputs": [],
   "source": [
    "y_pred_RF = RF_model.predict(X)"
   ]
  },
  {
   "cell_type": "code",
   "execution_count": 13,
   "id": "ef0365b2-f41a-4f78-ac0f-c237926a9a50",
   "metadata": {
    "tags": []
   },
   "outputs": [
    {
     "data": {
      "image/png": "[encoded data removed]",
      "text/plain": [
       "<Figure size 640x480 with 1 Axes>"
      ]
     },
     "metadata": {},
     "output_type": "display_data"
    },
    {
     "data": {
      "text/plain": [
       "<matplotlib.collections.PathCollection at 0x256dda8f750>"
      ]
     },
     "execution_count": 13,
     "metadata": {},
     "output_type": "execute_result"
    },
    {
     "data": {
      "image/png": "[encoded data removed]",
      "text/plain": [
       "<Figure size 640x480 with 1 Axes>"
      ]
     },
     "metadata": {},
     "output_type": "display_data"
    }
   ],
   "source": [
    "plt.plot(Y)\n",
    "plt.plot(y_pred_RF)\n",
    "plt.show()\n",
    "plt.scatter(Y,y_pred_RF)"
   ]
  },
  {
   "cell_type": "code",
   "execution_count": 14,
   "id": "e0b95f47-da6a-4b0d-9635-c211fe6f7f85",
   "metadata": {
    "tags": []
   },
   "outputs": [
    {
     "name": "stdout",
     "output_type": "stream",
     "text": [
      "8.688955679321623 -0.013565948516761312 214.14526382462205 14.63370301135779 0.08073172140018688 -7.484109629219775e-05\n"
     ]
    },
    {
     "data": {
      "text/html": [
       "<div>\n",
       "<style scoped>\n",
       "    .dataframe tbody tr th:only-of-type {\n",
       "        vertical-align: middle;\n",
       "    }\n",
       "\n",
       "    .dataframe tbody tr th {\n",
       "        vertical-align: top;\n",
       "    }\n",
       "\n",
       "    .dataframe thead th {\n",
       "        text-align: right;\n",
       "    }\n",
       "</style>\n",
       "<table border=\"1\" class=\"dataframe\">\n",
       "  <thead>\n",
       "    <tr style=\"text-align: right;\">\n",
       "      <th></th>\n",
       "      <th>MAE</th>\n",
       "      <th>MBE</th>\n",
       "      <th>MSE</th>\n",
       "      <th>RMSE</th>\n",
       "      <th>cvRMSE</th>\n",
       "      <th>NMBE</th>\n",
       "    </tr>\n",
       "    <tr>\n",
       "      <th>REGRESSION METHOD</th>\n",
       "      <th></th>\n",
       "      <th></th>\n",
       "      <th></th>\n",
       "      <th></th>\n",
       "      <th></th>\n",
       "      <th></th>\n",
       "    </tr>\n",
       "  </thead>\n",
       "  <tbody>\n",
       "    <tr>\n",
       "      <th>Random Forest</th>\n",
       "      <td>8.688956</td>\n",
       "      <td>-0.013566</td>\n",
       "      <td>214.145264</td>\n",
       "      <td>14.633703</td>\n",
       "      <td>0.080732</td>\n",
       "      <td>-0.000075</td>\n",
       "    </tr>\n",
       "  </tbody>\n",
       "</table>\n",
       "</div>"
      ],
      "text/plain": [
       "                        MAE       MBE         MSE       RMSE    cvRMSE  \\\n",
       "REGRESSION METHOD                                                        \n",
       "Random Forest      8.688956 -0.013566  214.145264  14.633703  0.080732   \n",
       "\n",
       "                       NMBE  \n",
       "REGRESSION METHOD            \n",
       "Random Forest     -0.000075  "
      ]
     },
     "execution_count": 14,
     "metadata": {},
     "output_type": "execute_result"
    }
   ],
   "source": [
    "#Evaluate errors\n",
    "MAE_RF=metrics.mean_absolute_error(Y,y_pred_RF) \n",
    "MBE_RF=np.mean(Y-y_pred_RF) #here we calculate MBE\n",
    "MSE_RF=metrics.mean_squared_error(Y,y_pred_RF)  \n",
    "RMSE_RF= np.sqrt(metrics.mean_squared_error(Y,y_pred_RF))\n",
    "cvRMSE_RF=RMSE_RF/np.mean(Y)\n",
    "NMBE_RF=MBE_RF/np.mean(Y)\n",
    "print(MAE_RF,MBE_RF,MSE_RF,RMSE_RF,cvRMSE_RF,NMBE_RF)\n",
    "result = pd.DataFrame({\n",
    "    'MAE': [MAE_RF],\n",
    "    'MBE': [MBE_RF],\n",
    "    'MSE': [MSE_RF],\n",
    "    'RMSE': [RMSE_RF],\n",
    "    'cvRMSE': [cvRMSE_RF],\n",
    "    'NMBE': [NMBE_RF]\n",
    "},index=['Random Forest'])\n",
    "result.index.name = 'REGRESSION METHOD' \n",
    "result"
   ]
  },
  {
   "cell_type": "markdown",
   "id": "de45dfa9-5b9d-4e46-9c55-7d083e3595d6",
   "metadata": {},
   "source": [
    "# Conclusion "
   ]
  },
  {
   "cell_type": "markdown",
   "id": "1c506c2c-27f6-43af-9781-70cc642790ca",
   "metadata": {},
   "source": [
    "The model sussessfully forecasted the power consumption according the the ASHRAE and IPMVP standards"
   ]
  }
 ],
 "metadata": {
  "kernelspec": {
   "display_name": "Python 3 (ipykernel)",
   "language": "python",
   "name": "python3"
  },
  "language_info": {
   "codemirror_mode": {
    "name": "ipython",
    "version": 3
   },
   "file_extension": ".py",
   "mimetype": "text/x-python",
   "name": "python",
   "nbconvert_exporter": "python",
   "pygments_lexer": "ipython3",
   "version": "3.11.5"
  }
 },
 "nbformat": 4,
 "nbformat_minor": 5
}
